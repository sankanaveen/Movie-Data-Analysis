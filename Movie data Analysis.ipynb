{
 "cells": [
  {
   "cell_type": "markdown",
   "metadata": {},
   "source": [
    "# Data Analysis of Movies"
   ]
  },
  {
   "cell_type": "markdown",
   "metadata": {},
   "source": [
    "#### Dataset for movies - https://grouplens.org/datasets/movielens/\n",
    "#### Summary about dataset - http://files.grouplens.org/datasets/movielens/ml-latest-README.html\n"
   ]
  },
  {
   "cell_type": "code",
   "execution_count": null,
   "metadata": {
    "collapsed": true
   },
   "outputs": [],
   "source": [
    "import graphlab as gl\n",
    "import pandas as pd\n",
    "import numpy as np\n",
    "import requests as rq\n",
    "import json,os\n",
    "#import matplotlib.pyplot as plt\n",
    "#import matplotlib.cbook as cbook"
   ]
  },
  {
   "cell_type": "code",
   "execution_count": null,
   "metadata": {
    "collapsed": true
   },
   "outputs": [],
   "source": [
    "#File that we used\n",
    "#links_file_path = r'C:\\Users\\naveen.sanka\\Documents\\Data Viz Project\\Individual\\ml-latest\\ml-latest\\links.csv'\n",
    "#links_data = gl.SFrame(links_file_path)"
   ]
  },
  {
   "cell_type": "markdown",
   "metadata": {},
   "source": [
    "# API to get Actors and more detailed information about each movie"
   ]
  },
  {
   "cell_type": "markdown",
   "metadata": {},
   "source": [
    "### We will be using links data to extract information from Open movie database using Imdb movie id\n",
    "### Sample url - http://www.omdbapi.com/?i=tt0113497"
   ]
  },
  {
   "cell_type": "markdown",
   "metadata": {},
   "source": [
    "#### This is the piece of code we used to extract data from omdb "
   ]
  },
  {
   "cell_type": "code",
   "execution_count": null,
   "metadata": {
    "collapsed": false
   },
   "outputs": [],
   "source": [
    "# base_url = 'http://www.omdbapi.com/?i=tt'\n",
    "# output_df = pd.DataFrame()\n",
    "# for x in links_data:\n",
    "#     query_url = base_url+str('{0:0{width}}'.format(x['imdbId'], width=7))\n",
    "#     try:\n",
    "#         ret = rq.get(query_url)\n",
    "#     except rq.exceptions as e:\n",
    "#         print(\"Error in Post method\",e)\n",
    "#         raise\n",
    "#     except rq.exceptions.Timeout as e:\n",
    "#         print(\"Timeout Error\",str(e))\n",
    "#         raise\n",
    "#     except rq.exceptions.TooManyRedirects as e:\n",
    "#         print(\"redirects Error\",str(e))\n",
    "#         raise\n",
    "#     except rq.exceptions.RequestException as e:\n",
    "#         print('Exception occured', str(e))\n",
    "#         raise\n",
    "#     temp = pd.read_json(ret.text,typ='series')\n",
    "#     temp = pd.DataFrame(temp).T\n",
    "#     temp = temp.sort_index(axis=1,ascending=True)\n",
    "#     output_df = output_df.append(temp)"
   ]
  },
  {
   "cell_type": "markdown",
   "metadata": {
    "collapsed": false
   },
   "source": [
    "#### For convinience I have saved the data in a JSON file"
   ]
  },
  {
   "cell_type": "code",
   "execution_count": null,
   "metadata": {
    "collapsed": false
   },
   "outputs": [],
   "source": [
    "# Saving file to local\n",
    "# temp_final_df.to_json(r'C:\\Users\\naveen.sanka\\Documents\\Data Viz Project\\Individual\\Imdb_Json_File\\final_movies_data_omdb.json'\n",
    "#                       ,orient='split')"
   ]
  },
  {
   "cell_type": "code",
   "execution_count": null,
   "metadata": {
    "collapsed": false
   },
   "outputs": [],
   "source": [
    "omdb_df = pd.read_json(r'C:\\Users\\naveen.sanka\\Documents\\Data Viz Project\\Individual\\Imdb_Json_File\\final_movies_data_omdb.json'\n",
    "                       ,orient='split')"
   ]
  },
  {
   "cell_type": "markdown",
   "metadata": {
    "collapsed": false
   },
   "source": [
    "We need to perform some data cleaning operations to use this data:\n",
    "    1. Removing index column from data frame as we don't need it.\n",
    "    2. We have observed that there are duplicate imdbId so, we will remove them"
   ]
  },
  {
   "cell_type": "code",
   "execution_count": null,
   "metadata": {
    "collapsed": false
   },
   "outputs": [],
   "source": [
    "#Removing index column\n",
    "omdb_df = omdb_df.drop('index',axis=1)\n",
    "# Removing duplicates from the omdb_df\n",
    "omdb_df = omdb_df.drop_duplicates(['imdbID'],keep='first')"
   ]
  },
  {
   "cell_type": "markdown",
   "metadata": {},
   "source": [
    "# We have extracted Highest Paid Actors list from Statista"
   ]
  },
  {
   "cell_type": "code",
   "execution_count": null,
   "metadata": {
    "collapsed": false
   },
   "outputs": [],
   "source": [
    "#Loading CSV Files\n",
    "highest_paid_df = pd.read_csv(r'C:\\Users\\naveen.sanka\\Documents\\Data Viz Project\\Individual\\Highest_Paid_2016.csv')\n",
    "#Appending Actors and Actress\n",
    "Highest_Paid_Actors = highest_paid_df['Highest Paid Actors'].append(highest_paid_df['Highest Paid Actress'])\n",
    "#We have identified few parameters for Actors success\n",
    "Actor_Success = omdb_df[['imdbID','Title','Actors','Country','Released','Director','BoxOffice','imdbRating']]\n",
    "#Deriving parameters for all the Actors\n",
    "for x in Highest_Paid_Actors[0:len(Highest_Paid_Actors)-1]:\n",
    "    Actor_Success[x] = np.nan\n",
    "    def actor_present(data):\n",
    "        if x in data:\n",
    "            return 1\n",
    "        else:\n",
    "            return np.nan\n",
    "    Actor_Success[x] = Actor_Success.Actors.apply(actor_present)"
   ]
  },
  {
   "cell_type": "code",
   "execution_count": null,
   "metadata": {
    "collapsed": false
   },
   "outputs": [],
   "source": [
    "#Dropping rows which are not needed\n",
    "Actor_Success = Actor_Success.dropna(subset=['Dwayne Johnson','Jackie Chan','Matt Damon',\n",
    "               'Tom Cruise',        'Johnny Depp',        'Ben Affleck',\n",
    "               'Vin Diesel',     'Shah Rukh Khan',   'Robert Downey Jr',\n",
    "             'Akshay Kumar',          'Brad Pitt',  'Jennifer Lawrence',\n",
    "         'Melissa McCarthy', 'Scarlett Johansson',   'Jennifer Aniston',\n",
    "             'Fan Bingbing',    'Charlize Theron',          'Amy Adams',\n",
    "            'Julia Roberts',         'Mila Kunis',   'Deepika Padukone'],how='all')"
   ]
  },
  {
   "cell_type": "code",
   "execution_count": null,
   "metadata": {
    "collapsed": false
   },
   "outputs": [],
   "source": [
    "# Converting Releasd Column to Datetime type\n",
    "Actor_Success.Released = pd.to_datetime(Actor_Success.Released, format=\"%d %b %Y\",errors='coerce')\n",
    "Actor_Success.imdbRating = pd.to_numeric(Actor_Success.imdbRating)\n",
    "Actor_Success.BoxOffice = Actor_Success.BoxOffice.replace({'N/A':np.nan})\n",
    "Actor_Success.BoxOffice = Actor_Success.BoxOffice.replace('[\\$,]', '', regex=True).astype(float)\n",
    "Actor_Success = Actor_Success.sort(columns='Released')\n",
    "\n",
    "avg_rat_box = pd.DataFrame(Highest_Paid_Actors[0:len(Highest_Paid_Actors)-1],columns=['Actors'])\n",
    "def box_mean(column):\n",
    "    temp = Actor_Success[Actor_Success[str(column)]==1]\n",
    "    temp_box = pd.DataFrame(temp['BoxOffice'])\n",
    "    #removing outliers\n",
    "    temp_box = temp_box[abs(temp_box['BoxOffice']-np.mean(temp_box['BoxOffice']))<2*np.std(temp_box['BoxOffice'])]\n",
    "    return temp_box['BoxOffice'].mean()\n",
    "\n",
    "def rating_mean(column):\n",
    "    #print(column)\n",
    "    temp = Actor_Success[Actor_Success[str(column)]==1]\n",
    "    temp_rat = pd.DataFrame(temp['imdbRating'])\n",
    "    #removing outliers\n",
    "    temp_rat = temp_rat[abs(temp_rat['imdbRating']-np.mean(temp_rat['imdbRating']))<2*np.std(temp_rat['imdbRating'])]\n",
    "    return temp_rat['imdbRating'].mean()\n",
    "\n",
    "avg_rat_box['BoxOffice'] = avg_rat_box.Actors.apply(box_mean)\n",
    "avg_rat_box['imdbRating'] = avg_rat_box.Actors.apply(rating_mean)\n",
    "\n",
    "#removing outliers\n",
    "def remove_outliers(temp_j, m=2):\n",
    "    #return data[abs(data - np.mean(data)) < m * np.std(data)]\n",
    "    return temp_j[abs(temp_j['BoxOffice']-np.mean(temp_j['BoxOffice']))<2*np.std(temp_j['BoxOffice'])]\n",
    "\n",
    "avg_rat_box"
   ]
  },
  {
   "cell_type": "code",
   "execution_count": null,
   "metadata": {
    "collapsed": true
   },
   "outputs": [],
   "source": [
    "#Sorting data\n",
    "avg_rat_box = avg_rat_box.sort_values(by=['BoxOffice','imdbRating'],ascending=False)\n",
    "\n",
    "#Mapping \n",
    "def find_earnings(act):\n",
    "    #print(act)\n",
    "    if act in list(highest_paid_df['Highest Paid Actors']):\n",
    "        temp = highest_paid_df[highest_paid_df['Highest Paid Actors']==act]\n",
    "        op = int(temp['Amount'])\n",
    "        #print(type(op))\n",
    "        #print(op)\n",
    "    else:\n",
    "        temp = highest_paid_df[highest_paid_df['Highest Paid Actress']==act]\n",
    "        op =  int(temp['Amount.1'])\n",
    "        #print(op)\n",
    "    return op\n",
    "\n",
    "avg_rat_box['Earnings'] = avg_rat_box.Actors.apply(find_earnings)\n",
    "avg_rat_box['Earnings'] = avg_rat_box['Earnings']*1000000\n",
    "\n",
    "avg_rat_box.to_excel(r'C:\\Users\\naveen.sanka\\Documents\\Data Viz Project\\Individual\\high_paid_actors.xlsx')"
   ]
  },
  {
   "cell_type": "markdown",
   "metadata": {},
   "source": [
    "# Highest BoxOffice collection based on Genre"
   ]
  },
  {
   "cell_type": "code",
   "execution_count": null,
   "metadata": {
    "collapsed": false
   },
   "outputs": [],
   "source": [
    "omdb_box_df = omdb_df\n",
    "#Correcting data from omdb\n",
    "# BoxOffice for Titanic and Avatar\n",
    "omdb_box_df.set_value(1661,'BoxOffice',658672302)\n",
    "omdb_box_df.BoxOffice = omdb_box_df.BoxOffice.replace({'N/A':np.nan})\n",
    "omdb_box_df.BoxOffice = omdb_box_df.BoxOffice.replace({'$25.7k':25700})\n",
    "omdb_box_df.BoxOffice = omdb_box_df.BoxOffice.replace('[\\$,]', '', regex=True).astype(float)\n",
    "omdb_box_df.Released = pd.to_datetime(omdb_box_df.Released, format=\"%d %b %Y\",errors='coerce')\n",
    "\n",
    "imdb_genre_list = ['Action','Adventure','Animation','Biography','Comedy','Crime','Documentary','Drama',\n",
    "                   'Family','Fantasy','Film-Noir','History','Horror','Music','Musical','Mystery',\n",
    "                   'Romance','Sci-Fi','Sport','Thriller','War','Western']\n",
    "\n",
    "for x in imdb_genre_list:\n",
    "    omdb_box_df[x] = np.nan\n",
    "    def genre_present(data):\n",
    "        if x in data:\n",
    "            return 1\n",
    "        else:\n",
    "            return np.nan\n",
    "    omdb_box_df[x] = omdb_box_df.Genre.apply(genre_present)\n",
    "    \n",
    "omdb_box_df = omdb_box_df.sort_values(by='BoxOffice',ascending=False)\n",
    "omdb_box_df_op = omdb_box_df[0:100]\n",
    "\n",
    "gross_by_gen_dif = pd.DataFrame(imdb_genre_list,columns=['Genre'])\n",
    "def find_gen(gen):\n",
    "    return omdb_box_df_op[gen].sum()\n",
    "    \n",
    "gross_by_gen_dif['High_BoxOfiice'] = gross_by_gen_dif.Genre.apply(find_gen)\n",
    "gross_by_gen_dif.to_excel(r'C:\\Users\\naveen.sanka\\Documents\\Data Viz Project\\Individual\\omdb_genre_boxoffice.xlsx')"
   ]
  },
  {
   "cell_type": "markdown",
   "metadata": {
    "collapsed": false
   },
   "source": [
    "# Influence of movie title on imdb ratings"
   ]
  },
  {
   "cell_type": "markdown",
   "metadata": {},
   "source": [
    "### Influence of length of Title"
   ]
  },
  {
   "cell_type": "code",
   "execution_count": null,
   "metadata": {
    "collapsed": false
   },
   "outputs": [],
   "source": [
    "title_omdb_df = omdb_df\n",
    "def find_len(data):\n",
    "    return len(data)\n",
    "title_omdb_df['Title_Length'] = title_omdb_df.Title.apply(find_len)\n",
    "\n",
    "title_omdb_df.imdbRating = title_omdb_df.imdbRating.replace({'N/A':np.nan})\n",
    "title_omdb_df.imdbRating = pd.to_numeric(title_omdb_df.imdbRating)\n",
    "title_omdb_df[0:3].T\n",
    "\n",
    "xxxx = title_omdb_df[['imdbRating','Title_Length']]\n",
    "\n",
    "#We have observed that there is no significant corr\n",
    "xxxx.corr()"
   ]
  },
  {
   "cell_type": "markdown",
   "metadata": {
    "collapsed": false
   },
   "source": [
    "# Oscar nomination and winning"
   ]
  },
  {
   "cell_type": "code",
   "execution_count": null,
   "metadata": {
    "collapsed": false
   },
   "outputs": [],
   "source": [
    "omdb_oscar_df = omdb_df\n",
    "omdb_oscar_df['Oscar'] = np.NaN\n",
    "def find_oscar(col):\n",
    "    if ('Oscars' in col) or ('oscars' in col) or ('oscar' in col) or ('Oscar' in col):\n",
    "        if ('Nominated' in col) or ('nominated' in col):\n",
    "            return 2\n",
    "        else:\n",
    "            return 1\n",
    "    else:\n",
    "        return np.NaN\n",
    "omdb_oscar_df['Oscar'] = omdb_oscar_df.Awards.apply(find_oscar)\n",
    "omdb_oscar_df = omdb_oscar_df[omdb_oscar_df['Oscar']>=1]\n",
    "\n",
    "omdb_oscar_df = omdb_oscar_df.sort_values(by=['Year','imdbRating'], ascending=False)\n",
    "omdb_oscar_df.Runtime = omdb_oscar_df.Runtime.str.replace('min','')\n",
    "omdb_oscar_df.T\n",
    "\n",
    "omdb_oscar_df.to_excel(r'C:\\Users\\naveen.sanka\\Documents\\Data Viz Project\\Individual\\omdb_oscar_corr.xlsx')"
   ]
  }
 ],
 "metadata": {
  "kernelspec": {
   "display_name": "Python 2",
   "language": "python",
   "name": "python2"
  },
  "language_info": {
   "codemirror_mode": {
    "name": "ipython",
    "version": 2
   },
   "file_extension": ".py",
   "mimetype": "text/x-python",
   "name": "python",
   "nbconvert_exporter": "python",
   "pygments_lexer": "ipython2",
   "version": "2.7.11"
  }
 },
 "nbformat": 4,
 "nbformat_minor": 0
}
