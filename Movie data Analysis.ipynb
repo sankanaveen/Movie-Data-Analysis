{
 "cells": [
  {
   "cell_type": "markdown",
   "metadata": {},
   "source": [
    "# Data Analysis of Movies"
   ]
  },
  {
   "cell_type": "markdown",
   "metadata": {},
   "source": [
    "#### Dataset for movies - https://grouplens.org/datasets/movielens/\n",
    "#### Summary about dataset - http://files.grouplens.org/datasets/movielens/ml-latest-README.html\n"
   ]
  },
  {
   "cell_type": "code",
   "execution_count": 9,
   "metadata": {
    "collapsed": true
   },
   "outputs": [],
   "source": [
    "import graphlab as gl\n",
    "import pandas as pd\n",
    "import numpy as np\n",
    "import requests as rq\n",
    "import json,os\n",
    "#import matplotlib.pyplot as plt\n",
    "#import matplotlib.cbook as cbook"
   ]
  },
  {
   "cell_type": "code",
   "execution_count": 10,
   "metadata": {
    "collapsed": true
   },
   "outputs": [],
   "source": [
    "#File that we used\n",
    "#links_file_path = r'C:\\Users\\naveen.sanka\\Documents\\Data Viz Project\\Individual\\ml-latest\\ml-latest\\links.csv'\n",
    "#links_data = gl.SFrame(links_file_path)"
   ]
  },
  {
   "cell_type": "markdown",
   "metadata": {},
   "source": [
    "# API to get Actors and more detailed information about each movie"
   ]
  },
  {
   "cell_type": "markdown",
   "metadata": {},
   "source": [
    "### We will be using links data to extract information from Open movie database using Imdb movie id\n",
    "### Sample url - http://www.omdbapi.com/?i=tt0113497"
   ]
  },
  {
   "cell_type": "markdown",
   "metadata": {},
   "source": [
    "#### This is the piece of code we used to extract data from omdb "
   ]
  },
  {
   "cell_type": "code",
   "execution_count": 11,
   "metadata": {
    "collapsed": false
   },
   "outputs": [],
   "source": [
    "# base_url = 'http://www.omdbapi.com/?i=tt'\n",
    "# output_df = pd.DataFrame()\n",
    "# for x in links_data:\n",
    "#     query_url = base_url+str('{0:0{width}}'.format(x['imdbId'], width=7))\n",
    "#     try:\n",
    "#         ret = rq.get(query_url)\n",
    "#     except rq.exceptions as e:\n",
    "#         print(\"Error in Post method\",e)\n",
    "#         raise\n",
    "#     except rq.exceptions.Timeout as e:\n",
    "#         print(\"Timeout Error\",str(e))\n",
    "#         raise\n",
    "#     except rq.exceptions.TooManyRedirects as e:\n",
    "#         print(\"redirects Error\",str(e))\n",
    "#         raise\n",
    "#     except rq.exceptions.RequestException as e:\n",
    "#         print('Exception occured', str(e))\n",
    "#         raise\n",
    "#     temp = pd.read_json(ret.text,typ='series')\n",
    "#     temp = pd.DataFrame(temp).T\n",
    "#     temp = temp.sort_index(axis=1,ascending=True)\n",
    "#     output_df = output_df.append(temp)"
   ]
  },
  {
   "cell_type": "markdown",
   "metadata": {
    "collapsed": false
   },
   "source": [
    "#### For convinience I have saved the data in a JSON file"
   ]
  },
  {
   "cell_type": "code",
   "execution_count": 12,
   "metadata": {
    "collapsed": false
   },
   "outputs": [],
   "source": [
    "# Saving file to local\n",
    "# temp_final_df.to_json(r'C:\\Users\\naveen.sanka\\Documents\\Data Viz Project\\Individual\\Imdb_Json_File\\final_movies_data_omdb.json'\n",
    "#                       ,orient='split')"
   ]
  },
  {
   "cell_type": "code",
   "execution_count": 13,
   "metadata": {
    "collapsed": false
   },
   "outputs": [],
   "source": [
    "omdb_df = pd.read_json(r'C:\\Users\\naveen.sanka\\Documents\\Data Viz Project\\Individual\\Imdb_Json_File\\final_movies_data_omdb.json'\n",
    "                       ,orient='split')"
   ]
  },
  {
   "cell_type": "markdown",
   "metadata": {
    "collapsed": false
   },
   "source": [
    "We need to perform some data cleaning operations to use this data:\n",
    "    1. Removing index column from data frame as we don't need it.\n",
    "    2. We have observed that there are duplicate imdbId so, we will remove them"
   ]
  },
  {
   "cell_type": "code",
   "execution_count": 14,
   "metadata": {
    "collapsed": false
   },
   "outputs": [],
   "source": [
    "#Removing index column\n",
    "omdb_df = omdb_df.drop('index',axis=1)\n",
    "# Removing duplicates from the omdb_df\n",
    "omdb_df = omdb_df.drop_duplicates(['imdbID'],keep='first')"
   ]
  },
  {
   "cell_type": "markdown",
   "metadata": {},
   "source": [
    "# We have extracted Highest Paid Actors list from Statista"
   ]
  },
  {
   "cell_type": "code",
   "execution_count": 15,
   "metadata": {
    "collapsed": false
   },
   "outputs": [
    {
     "name": "stderr",
     "output_type": "stream",
     "text": [
      "C:\\Users\\naveen.sanka\\AppData\\Local\\Continuum\\Anaconda3\\envs\\gl-env\\lib\\site-packages\\ipykernel\\__main__.py:9: SettingWithCopyWarning: \n",
      "A value is trying to be set on a copy of a slice from a DataFrame.\n",
      "Try using .loc[row_indexer,col_indexer] = value instead\n",
      "\n",
      "See the caveats in the documentation: http://pandas.pydata.org/pandas-docs/stable/indexing.html#indexing-view-versus-copy\n",
      "C:\\Users\\naveen.sanka\\AppData\\Local\\Continuum\\Anaconda3\\envs\\gl-env\\lib\\site-packages\\ipykernel\\__main__.py:15: SettingWithCopyWarning: \n",
      "A value is trying to be set on a copy of a slice from a DataFrame.\n",
      "Try using .loc[row_indexer,col_indexer] = value instead\n",
      "\n",
      "See the caveats in the documentation: http://pandas.pydata.org/pandas-docs/stable/indexing.html#indexing-view-versus-copy\n"
     ]
    }
   ],
   "source": [
    "#Loading CSV Files\n",
    "highest_paid_df = pd.read_csv(r'C:\\Users\\naveen.sanka\\Documents\\Data Viz Project\\Individual\\Highest_Paid_2016.csv')\n",
    "#Appending Actors and Actress\n",
    "Highest_Paid_Actors = highest_paid_df['Highest Paid Actors'].append(highest_paid_df['Highest Paid Actress'])\n",
    "#We have identified few parameters for Actors success\n",
    "Actor_Success = omdb_df[['imdbID','Title','Actors','Country','Released','Director','BoxOffice','imdbRating']]\n",
    "#Deriving parameters for all the Actors\n",
    "for x in Highest_Paid_Actors[0:len(Highest_Paid_Actors)-1]:\n",
    "    Actor_Success[x] = np.nan\n",
    "    def actor_present(data):\n",
    "        if x in data:\n",
    "            return 1\n",
    "        else:\n",
    "            return np.nan\n",
    "    Actor_Success[x] = Actor_Success.Actors.apply(actor_present)"
   ]
  },
  {
   "cell_type": "code",
   "execution_count": 16,
   "metadata": {
    "collapsed": false
   },
   "outputs": [],
   "source": [
    "#Dropping rows which are not needed\n",
    "Actor_Success = Actor_Success.dropna(subset=['Dwayne Johnson','Jackie Chan','Matt Damon',\n",
    "               'Tom Cruise',        'Johnny Depp',        'Ben Affleck',\n",
    "               'Vin Diesel',     'Shah Rukh Khan',   'Robert Downey Jr',\n",
    "             'Akshay Kumar',          'Brad Pitt',  'Jennifer Lawrence',\n",
    "         'Melissa McCarthy', 'Scarlett Johansson',   'Jennifer Aniston',\n",
    "             'Fan Bingbing',    'Charlize Theron',          'Amy Adams',\n",
    "            'Julia Roberts',         'Mila Kunis',   'Deepika Padukone'],how='all')"
   ]
  },
  {
   "cell_type": "code",
   "execution_count": 17,
   "metadata": {
    "collapsed": false
   },
   "outputs": [
    {
     "name": "stderr",
     "output_type": "stream",
     "text": [
      "C:\\Users\\naveen.sanka\\AppData\\Local\\Continuum\\Anaconda3\\envs\\gl-env\\lib\\site-packages\\ipykernel\\__main__.py:6: FutureWarning: sort(columns=....) is deprecated, use sort_values(by=.....)\n"
     ]
    },
    {
     "data": {
      "text/html": [
       "<div>\n",
       "<table border=\"1\" class=\"dataframe\">\n",
       "  <thead>\n",
       "    <tr style=\"text-align: right;\">\n",
       "      <th></th>\n",
       "      <th>Actors</th>\n",
       "      <th>BoxOffice</th>\n",
       "      <th>imdbRating</th>\n",
       "    </tr>\n",
       "  </thead>\n",
       "  <tbody>\n",
       "    <tr>\n",
       "      <th>0</th>\n",
       "      <td>Dwayne Johnson</td>\n",
       "      <td>7.453883e+07</td>\n",
       "      <td>6.200000</td>\n",
       "    </tr>\n",
       "    <tr>\n",
       "      <th>1</th>\n",
       "      <td>Jackie Chan</td>\n",
       "      <td>3.879936e+07</td>\n",
       "      <td>6.411268</td>\n",
       "    </tr>\n",
       "    <tr>\n",
       "      <th>2</th>\n",
       "      <td>Matt Damon</td>\n",
       "      <td>7.999009e+07</td>\n",
       "      <td>7.070968</td>\n",
       "    </tr>\n",
       "    <tr>\n",
       "      <th>3</th>\n",
       "      <td>Tom Cruise</td>\n",
       "      <td>9.702516e+07</td>\n",
       "      <td>6.935484</td>\n",
       "    </tr>\n",
       "    <tr>\n",
       "      <th>4</th>\n",
       "      <td>Johnny Depp</td>\n",
       "      <td>9.181195e+07</td>\n",
       "      <td>7.018182</td>\n",
       "    </tr>\n",
       "    <tr>\n",
       "      <th>5</th>\n",
       "      <td>Ben Affleck</td>\n",
       "      <td>6.132818e+07</td>\n",
       "      <td>6.432258</td>\n",
       "    </tr>\n",
       "    <tr>\n",
       "      <th>6</th>\n",
       "      <td>Vin Diesel</td>\n",
       "      <td>1.243495e+08</td>\n",
       "      <td>6.671429</td>\n",
       "    </tr>\n",
       "    <tr>\n",
       "      <th>7</th>\n",
       "      <td>Shah Rukh Khan</td>\n",
       "      <td>2.017804e+06</td>\n",
       "      <td>6.948780</td>\n",
       "    </tr>\n",
       "    <tr>\n",
       "      <th>8</th>\n",
       "      <td>Robert Downey Jr</td>\n",
       "      <td>1.398353e+08</td>\n",
       "      <td>6.746341</td>\n",
       "    </tr>\n",
       "    <tr>\n",
       "      <th>9</th>\n",
       "      <td>Akshay Kumar</td>\n",
       "      <td>6.277756e+05</td>\n",
       "      <td>6.361702</td>\n",
       "    </tr>\n",
       "    <tr>\n",
       "      <th>10</th>\n",
       "      <td>Brad Pitt</td>\n",
       "      <td>6.929153e+07</td>\n",
       "      <td>6.843750</td>\n",
       "    </tr>\n",
       "    <tr>\n",
       "      <th>0</th>\n",
       "      <td>Jennifer Lawrence</td>\n",
       "      <td>1.425693e+08</td>\n",
       "      <td>7.023077</td>\n",
       "    </tr>\n",
       "    <tr>\n",
       "      <th>1</th>\n",
       "      <td>Melissa McCarthy</td>\n",
       "      <td>8.694129e+07</td>\n",
       "      <td>6.050000</td>\n",
       "    </tr>\n",
       "    <tr>\n",
       "      <th>2</th>\n",
       "      <td>Scarlett Johansson</td>\n",
       "      <td>3.885021e+07</td>\n",
       "      <td>6.760870</td>\n",
       "    </tr>\n",
       "    <tr>\n",
       "      <th>3</th>\n",
       "      <td>Jennifer Aniston</td>\n",
       "      <td>5.742943e+07</td>\n",
       "      <td>6.083333</td>\n",
       "    </tr>\n",
       "    <tr>\n",
       "      <th>4</th>\n",
       "      <td>Fan Bingbing</td>\n",
       "      <td>NaN</td>\n",
       "      <td>NaN</td>\n",
       "    </tr>\n",
       "    <tr>\n",
       "      <th>5</th>\n",
       "      <td>Charlize Theron</td>\n",
       "      <td>4.378015e+07</td>\n",
       "      <td>6.571429</td>\n",
       "    </tr>\n",
       "    <tr>\n",
       "      <th>6</th>\n",
       "      <td>Amy Adams</td>\n",
       "      <td>5.879466e+07</td>\n",
       "      <td>6.552381</td>\n",
       "    </tr>\n",
       "    <tr>\n",
       "      <th>7</th>\n",
       "      <td>Julia Roberts</td>\n",
       "      <td>5.903520e+07</td>\n",
       "      <td>6.356667</td>\n",
       "    </tr>\n",
       "    <tr>\n",
       "      <th>8</th>\n",
       "      <td>Mila Kunis</td>\n",
       "      <td>6.230079e+07</td>\n",
       "      <td>6.466667</td>\n",
       "    </tr>\n",
       "    <tr>\n",
       "      <th>9</th>\n",
       "      <td>Deepika Padukone</td>\n",
       "      <td>1.446035e+06</td>\n",
       "      <td>6.238462</td>\n",
       "    </tr>\n",
       "  </tbody>\n",
       "</table>\n",
       "</div>"
      ],
      "text/plain": [
       "                Actors     BoxOffice  imdbRating\n",
       "0       Dwayne Johnson  7.453883e+07    6.200000\n",
       "1          Jackie Chan  3.879936e+07    6.411268\n",
       "2           Matt Damon  7.999009e+07    7.070968\n",
       "3           Tom Cruise  9.702516e+07    6.935484\n",
       "4          Johnny Depp  9.181195e+07    7.018182\n",
       "5          Ben Affleck  6.132818e+07    6.432258\n",
       "6           Vin Diesel  1.243495e+08    6.671429\n",
       "7       Shah Rukh Khan  2.017804e+06    6.948780\n",
       "8     Robert Downey Jr  1.398353e+08    6.746341\n",
       "9         Akshay Kumar  6.277756e+05    6.361702\n",
       "10           Brad Pitt  6.929153e+07    6.843750\n",
       "0    Jennifer Lawrence  1.425693e+08    7.023077\n",
       "1     Melissa McCarthy  8.694129e+07    6.050000\n",
       "2   Scarlett Johansson  3.885021e+07    6.760870\n",
       "3     Jennifer Aniston  5.742943e+07    6.083333\n",
       "4         Fan Bingbing           NaN         NaN\n",
       "5      Charlize Theron  4.378015e+07    6.571429\n",
       "6            Amy Adams  5.879466e+07    6.552381\n",
       "7        Julia Roberts  5.903520e+07    6.356667\n",
       "8           Mila Kunis  6.230079e+07    6.466667\n",
       "9     Deepika Padukone  1.446035e+06    6.238462"
      ]
     },
     "execution_count": 17,
     "metadata": {},
     "output_type": "execute_result"
    }
   ],
   "source": [
    "# Converting Releasd Column to Datetime type\n",
    "Actor_Success.Released = pd.to_datetime(Actor_Success.Released, format=\"%d %b %Y\",errors='coerce')\n",
    "Actor_Success.imdbRating = pd.to_numeric(Actor_Success.imdbRating)\n",
    "Actor_Success.BoxOffice = Actor_Success.BoxOffice.replace({'N/A':np.nan})\n",
    "Actor_Success.BoxOffice = Actor_Success.BoxOffice.replace('[\\$,]', '', regex=True).astype(float)\n",
    "Actor_Success = Actor_Success.sort(columns='Released')\n",
    "\n",
    "avg_rat_box = pd.DataFrame(Highest_Paid_Actors[0:len(Highest_Paid_Actors)-1],columns=['Actors'])\n",
    "def box_mean(column):\n",
    "    temp = Actor_Success[Actor_Success[str(column)]==1]\n",
    "    temp_box = pd.DataFrame(temp['BoxOffice'])\n",
    "    #removing outliers\n",
    "    temp_box = temp_box[abs(temp_box['BoxOffice']-np.mean(temp_box['BoxOffice']))<2*np.std(temp_box['BoxOffice'])]\n",
    "    return temp_box['BoxOffice'].mean()\n",
    "\n",
    "def rating_mean(column):\n",
    "    #print(column)\n",
    "    temp = Actor_Success[Actor_Success[str(column)]==1]\n",
    "    temp_rat = pd.DataFrame(temp['imdbRating'])\n",
    "    #removing outliers\n",
    "    temp_rat = temp_rat[abs(temp_rat['imdbRating']-np.mean(temp_rat['imdbRating']))<2*np.std(temp_rat['imdbRating'])]\n",
    "    return temp_rat['imdbRating'].mean()\n",
    "\n",
    "avg_rat_box['BoxOffice'] = avg_rat_box.Actors.apply(box_mean)\n",
    "avg_rat_box['imdbRating'] = avg_rat_box.Actors.apply(rating_mean)\n",
    "\n",
    "#removing outliers\n",
    "def remove_outliers(temp_j, m=2):\n",
    "    #return data[abs(data - np.mean(data)) < m * np.std(data)]\n",
    "    return temp_j[abs(temp_j['BoxOffice']-np.mean(temp_j['BoxOffice']))<2*np.std(temp_j['BoxOffice'])]\n",
    "\n",
    "avg_rat_box"
   ]
  },
  {
   "cell_type": "code",
   "execution_count": 18,
   "metadata": {
    "collapsed": true
   },
   "outputs": [],
   "source": [
    "#Sorting data\n",
    "avg_rat_box = avg_rat_box.sort_values(by=['BoxOffice','imdbRating'],ascending=False)\n",
    "\n",
    "#Mapping \n",
    "def find_earnings(act):\n",
    "    #print(act)\n",
    "    if act in list(highest_paid_df['Highest Paid Actors']):\n",
    "        temp = highest_paid_df[highest_paid_df['Highest Paid Actors']==act]\n",
    "        op = int(temp['Amount'])\n",
    "        #print(type(op))\n",
    "        #print(op)\n",
    "    else:\n",
    "        temp = highest_paid_df[highest_paid_df['Highest Paid Actress']==act]\n",
    "        op =  int(temp['Amount.1'])\n",
    "        #print(op)\n",
    "    return op\n",
    "\n",
    "avg_rat_box['Earnings'] = avg_rat_box.Actors.apply(find_earnings)\n",
    "avg_rat_box['Earnings'] = avg_rat_box['Earnings']*1000000\n",
    "\n",
    "avg_rat_box.to_excel(r'C:\\Users\\naveen.sanka\\Documents\\Data Viz Project\\Individual\\high_paid_actors.xlsx')"
   ]
  },
  {
   "cell_type": "markdown",
   "metadata": {},
   "source": [
    "# Highest BoxOffice collection based on Genre"
   ]
  },
  {
   "cell_type": "code",
   "execution_count": 19,
   "metadata": {
    "collapsed": false
   },
   "outputs": [],
   "source": [
    "omdb_box_df = omdb_df\n",
    "#Correcting data from omdb\n",
    "# BoxOffice for Titanic and Avatar\n",
    "omdb_box_df.set_value(1661,'BoxOffice',658672302)\n",
    "omdb_box_df.BoxOffice = omdb_box_df.BoxOffice.replace({'N/A':np.nan})\n",
    "omdb_box_df.BoxOffice = omdb_box_df.BoxOffice.replace({'$25.7k':25700})\n",
    "omdb_box_df.BoxOffice = omdb_box_df.BoxOffice.replace('[\\$,]', '', regex=True).astype(float)\n",
    "omdb_box_df.Released = pd.to_datetime(omdb_box_df.Released, format=\"%d %b %Y\",errors='coerce')\n",
    "\n",
    "imdb_genre_list = ['Action','Adventure','Animation','Biography','Comedy','Crime','Documentary','Drama',\n",
    "                   'Family','Fantasy','Film-Noir','History','Horror','Music','Musical','Mystery',\n",
    "                   'Romance','Sci-Fi','Sport','Thriller','War','Western']\n",
    "\n",
    "for x in imdb_genre_list:\n",
    "    omdb_box_df[x] = np.nan\n",
    "    def genre_present(data):\n",
    "        if x in data:\n",
    "            return 1\n",
    "        else:\n",
    "            return np.nan\n",
    "    omdb_box_df[x] = omdb_box_df.Genre.apply(genre_present)\n",
    "    \n",
    "omdb_box_df = omdb_box_df.sort_values(by='BoxOffice',ascending=False)\n",
    "omdb_box_df_op = omdb_box_df[0:100]\n",
    "\n",
    "gross_by_gen_dif = pd.DataFrame(imdb_genre_list,columns=['Genre'])\n",
    "def find_gen(gen):\n",
    "    return omdb_box_df_op[gen].sum()\n",
    "    \n",
    "gross_by_gen_dif['High_BoxOfiice'] = gross_by_gen_dif.Genre.apply(find_gen)\n",
    "gross_by_gen_dif.to_excel(r'C:\\Users\\naveen.sanka\\Documents\\Data Viz Project\\Individual\\omdb_genre_boxoffice.xlsx')"
   ]
  },
  {
   "cell_type": "markdown",
   "metadata": {
    "collapsed": false
   },
   "source": [
    "# Influence of movie title on imdb ratings"
   ]
  },
  {
   "cell_type": "markdown",
   "metadata": {},
   "source": [
    "### Influence of length of Title"
   ]
  },
  {
   "cell_type": "code",
   "execution_count": 20,
   "metadata": {
    "collapsed": false
   },
   "outputs": [
    {
     "data": {
      "text/html": [
       "<div>\n",
       "<table border=\"1\" class=\"dataframe\">\n",
       "  <thead>\n",
       "    <tr style=\"text-align: right;\">\n",
       "      <th></th>\n",
       "      <th>imdbRating</th>\n",
       "      <th>Title_Length</th>\n",
       "    </tr>\n",
       "  </thead>\n",
       "  <tbody>\n",
       "    <tr>\n",
       "      <th>imdbRating</th>\n",
       "      <td>1.000000</td>\n",
       "      <td>0.064181</td>\n",
       "    </tr>\n",
       "    <tr>\n",
       "      <th>Title_Length</th>\n",
       "      <td>0.064181</td>\n",
       "      <td>1.000000</td>\n",
       "    </tr>\n",
       "  </tbody>\n",
       "</table>\n",
       "</div>"
      ],
      "text/plain": [
       "              imdbRating  Title_Length\n",
       "imdbRating      1.000000      0.064181\n",
       "Title_Length    0.064181      1.000000"
      ]
     },
     "execution_count": 20,
     "metadata": {},
     "output_type": "execute_result"
    }
   ],
   "source": [
    "title_omdb_df = omdb_df\n",
    "def find_len(data):\n",
    "    return len(data)\n",
    "title_omdb_df['Title_Length'] = title_omdb_df.Title.apply(find_len)\n",
    "\n",
    "title_omdb_df.imdbRating = title_omdb_df.imdbRating.replace({'N/A':np.nan})\n",
    "title_omdb_df.imdbRating = pd.to_numeric(title_omdb_df.imdbRating)\n",
    "title_omdb_df[0:3].T\n",
    "\n",
    "xxxx = title_omdb_df[['imdbRating','Title_Length']]\n",
    "\n",
    "#We have observed that there is no significant corr\n",
    "xxxx.corr()"
   ]
  },
  {
   "cell_type": "markdown",
   "metadata": {
    "collapsed": false
   },
   "source": [
    "# Oscar nomination and winning"
   ]
  },
  {
   "cell_type": "code",
   "execution_count": null,
   "metadata": {
    "collapsed": false
   },
   "outputs": [],
   "source": [
    "omdb_oscar_df = omdb_df\n",
    "omdb_oscar_df['Oscar'] = np.NaN\n",
    "def find_oscar(col):\n",
    "    if ('Oscars' in col) or ('oscars' in col) or ('oscar' in col) or ('Oscar' in col):\n",
    "        if ('Nominated' in col) or ('nominated' in col):\n",
    "            return 2\n",
    "        else:\n",
    "            return 1\n",
    "    else:\n",
    "        return np.NaN\n",
    "omdb_oscar_df['Oscar'] = omdb_oscar_df.Awards.apply(find_oscar)\n",
    "omdb_oscar_df = omdb_oscar_df[omdb_oscar_df['Oscar']>=1]\n",
    "\n",
    "omdb_oscar_df = omdb_oscar_df.sort_values(by=['Year','imdbRating'], ascending=False)\n",
    "omdb_oscar_df.Runtime = omdb_oscar_df.Runtime.str.replace('min','')\n",
    "omdb_oscar_df.T\n",
    "\n",
    "omdb_oscar_df.to_excel(r'C:\\Users\\naveen.sanka\\Documents\\Data Viz Project\\Individual\\omdb_oscar_corr.xlsx')"
   ]
  }
 ],
 "metadata": {
  "kernelspec": {
   "display_name": "Python 2",
   "language": "python",
   "name": "python2"
  },
  "language_info": {
   "codemirror_mode": {
    "name": "ipython",
    "version": 2
   },
   "file_extension": ".py",
   "mimetype": "text/x-python",
   "name": "python",
   "nbconvert_exporter": "python",
   "pygments_lexer": "ipython2",
   "version": "2.7.11"
  }
 },
 "nbformat": 4,
 "nbformat_minor": 0
}
